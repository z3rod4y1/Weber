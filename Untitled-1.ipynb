{
 "cells": [
  {
   "cell_type": "code",
   "execution_count": 1,
   "metadata": {},
   "outputs": [],
   "source": [
    "import pandas as pd"
   ]
  },
  {
   "cell_type": "code",
   "execution_count": null,
   "metadata": {},
   "outputs": [],
   "source": [
    "xl = pd.read_csv(\"Данные (ФИО)(1).csv\")\n",
    "xl1 = pd.read_csv(\"Данные (ID, phone).csv\")\n",
    "xl2 = pd.read_excel(\"Текстовые сообщения (1)(1).xlsx\")"
   ]
  },
  {
   "cell_type": "code",
   "execution_count": null,
   "metadata": {},
   "outputs": [],
   "source": [
    "xl.dropna(axis = 0, inplace = True)"
   ]
  },
  {
   "cell_type": "code",
   "execution_count": null,
   "metadata": {},
   "outputs": [],
   "source": [
    "xl"
   ]
  },
  {
   "cell_type": "code",
   "execution_count": null,
   "metadata": {},
   "outputs": [],
   "source": [
    "xl.ФИО.unique().shape"
   ]
  },
  {
   "cell_type": "markdown",
   "metadata": {},
   "source": [
    "Работа с телефонами"
   ]
  },
  {
   "cell_type": "code",
   "execution_count": null,
   "metadata": {},
   "outputs": [],
   "source": [
    "xl1.dropna(axis = 0, inplace = True)"
   ]
  },
  {
   "cell_type": "code",
   "execution_count": null,
   "metadata": {},
   "outputs": [],
   "source": [
    "xl1.rename(columns = {'Номер телефона':'phone'}, inplace = True )"
   ]
  },
  {
   "cell_type": "code",
   "execution_count": null,
   "metadata": {},
   "outputs": [],
   "source": [
    "xl1"
   ]
  },
  {
   "cell_type": "code",
   "execution_count": null,
   "metadata": {},
   "outputs": [],
   "source": [
    "xl1.phone.unique().shape"
   ]
  },
  {
   "cell_type": "code",
   "execution_count": null,
   "metadata": {},
   "outputs": [],
   "source": [
    "merged_df = pd.merge(xl, xl1, on='ID')"
   ]
  },
  {
   "cell_type": "code",
   "execution_count": null,
   "metadata": {},
   "outputs": [],
   "source": [
    "merged_df"
   ]
  },
  {
   "cell_type": "code",
   "execution_count": null,
   "metadata": {},
   "outputs": [],
   "source": [
    "a = merged_df[\"ФИО\"].values"
   ]
  },
  {
   "cell_type": "code",
   "execution_count": null,
   "metadata": {},
   "outputs": [],
   "source": []
  },
  {
   "cell_type": "code",
   "execution_count": null,
   "metadata": {},
   "outputs": [],
   "source": [
    "a = a.tolist()"
   ]
  },
  {
   "cell_type": "code",
   "execution_count": null,
   "metadata": {},
   "outputs": [],
   "source": [
    "b = a[0].split()"
   ]
  },
  {
   "cell_type": "code",
   "execution_count": null,
   "metadata": {},
   "outputs": [],
   "source": [
    "b"
   ]
  },
  {
   "cell_type": "code",
   "execution_count": null,
   "metadata": {},
   "outputs": [],
   "source": [
    "female = [\"а\", \"я\", \"ь\"]"
   ]
  },
  {
   "cell_type": "code",
   "execution_count": null,
   "metadata": {},
   "outputs": [],
   "source": [
    "c = []\n",
    "\n",
    "for i in range(len(a)):\n",
    "    b = a[i].split()\n",
    "\n",
    "    if len(b) >= 2 and len(b) <= 3:\n",
    "        ok = b[1][-1]\n",
    "\n",
    "        if ok in female:\n",
    "            c.append(\"Ж\")\n",
    "        else:\n",
    "            c.append(\"М\")\n",
    "    \n",
    "    elif \"и\" in b:\n",
    "        c.append(\"Двое\")\n",
    "        \n",
    "\n",
    "    else:\n",
    "        c.append(\"М\")"
   ]
  },
  {
   "cell_type": "code",
   "execution_count": null,
   "metadata": {},
   "outputs": [],
   "source": [
    "c"
   ]
  },
  {
   "cell_type": "code",
   "execution_count": null,
   "metadata": {},
   "outputs": [],
   "source": [
    "merged_df[\"sex\"] = c"
   ]
  },
  {
   "cell_type": "code",
   "execution_count": null,
   "metadata": {},
   "outputs": [],
   "source": [
    "big_data = merged_df"
   ]
  },
  {
   "cell_type": "code",
   "execution_count": null,
   "metadata": {},
   "outputs": [],
   "source": [
    "big_data.drop(columns = \"Пол\", axis = True)"
   ]
  },
  {
   "cell_type": "code",
   "execution_count": null,
   "metadata": {},
   "outputs": [],
   "source": [
    "big_data.rename(columns = {\"ФИО\" : \"fio\", \"Дата рождения\" : \"born_date\"}, inplace = True)"
   ]
  },
  {
   "cell_type": "code",
   "execution_count": null,
   "metadata": {},
   "outputs": [],
   "source": [
    "big_data = big_data[[\"ID\", \"phone\", \"fio\", \"sex\", \"born_date\"]]"
   ]
  },
  {
   "cell_type": "code",
   "execution_count": null,
   "metadata": {},
   "outputs": [],
   "source": [
    "big_data.head(60)"
   ]
  },
  {
   "cell_type": "markdown",
   "metadata": {},
   "source": []
  },
  {
   "cell_type": "code",
   "execution_count": null,
   "metadata": {},
   "outputs": [],
   "source": [
    "xl2.to_csv(\"Test.csv\",  index = None, header=True) "
   ]
  },
  {
   "cell_type": "code",
   "execution_count": null,
   "metadata": {},
   "outputs": [],
   "source": [
    "xl2 = pd.read_csv(\"Test.csv\", names = [\"message\"])"
   ]
  },
  {
   "cell_type": "code",
   "execution_count": null,
   "metadata": {},
   "outputs": [],
   "source": [
    "xl2"
   ]
  },
  {
   "cell_type": "code",
   "execution_count": null,
   "metadata": {},
   "outputs": [],
   "source": [
    "# 11 symbols\n",
    "\n",
    "numbers = [\"0\", \"1\", \"2\", \"3\", \"4\", \"5\", \"6\", \"7\", \"8\", \"9\"]\n",
    "close = [\",\", \".\"]"
   ]
  },
  {
   "cell_type": "code",
   "execution_count": null,
   "metadata": {},
   "outputs": [],
   "source": [
    "c = []\n",
    "sch = []\n",
    "\n",
    "for i in range(len(a)):\n",
    "    b = a[i].split()\n",
    "    cl = False\n",
    "\n",
    "    for buk in range(len(b)):\n",
    "        if any(l in b[buk] for l in numbers) and len(b[buk]) == 11:\n",
    "            if any(l in b[buk] for l in close):\n",
    "                pass\n",
    "            else:\n",
    "                c.append(b[buk])\n",
    "                cl = True\n",
    "                sch.append(i)"
   ]
  },
  {
   "cell_type": "code",
   "execution_count": null,
   "metadata": {},
   "outputs": [],
   "source": [
    "sch"
   ]
  },
  {
   "cell_type": "code",
   "execution_count": null,
   "metadata": {},
   "outputs": [],
   "source": [
    "xl2"
   ]
  },
  {
   "cell_type": "code",
   "execution_count": null,
   "metadata": {},
   "outputs": [],
   "source": [
    "xl2_c = xl2.loc[sch]"
   ]
  },
  {
   "cell_type": "code",
   "execution_count": null,
   "metadata": {},
   "outputs": [],
   "source": [
    "xl2_c"
   ]
  },
  {
   "cell_type": "code",
   "execution_count": null,
   "metadata": {},
   "outputs": [],
   "source": [
    "xl2_c[\"phone\"] = c"
   ]
  },
  {
   "cell_type": "code",
   "execution_count": null,
   "metadata": {},
   "outputs": [],
   "source": [
    "xl2_c"
   ]
  },
  {
   "cell_type": "code",
   "execution_count": null,
   "metadata": {},
   "outputs": [],
   "source": [
    "merged_df = pd.merge(big_data, xl2_c, on='phone')"
   ]
  },
  {
   "cell_type": "code",
   "execution_count": null,
   "metadata": {},
   "outputs": [],
   "source": [
    "merged_df"
   ]
  },
  {
   "cell_type": "code",
   "execution_count": null,
   "metadata": {},
   "outputs": [],
   "source": [
    "big_data = merged_df"
   ]
  },
  {
   "cell_type": "code",
   "execution_count": null,
   "metadata": {},
   "outputs": [],
   "source": [
    "big_data.to_csv('big_data.csv', index=False)"
   ]
  },
  {
   "cell_type": "code",
   "execution_count": null,
   "metadata": {},
   "outputs": [],
   "source": [
    "x = pd.read_csv(\"big_data.csv\")"
   ]
  },
  {
   "cell_type": "code",
   "execution_count": null,
   "metadata": {},
   "outputs": [],
   "source": [
    "x"
   ]
  },
  {
   "cell_type": "code",
   "execution_count": null,
   "metadata": {},
   "outputs": [],
   "source": [
    "#end = f\"+7 ({}) {}-{}-{}\""
   ]
  },
  {
   "cell_type": "code",
   "execution_count": 224,
   "metadata": {},
   "outputs": [],
   "source": [
    "A = x[\"phone\"].values"
   ]
  },
  {
   "cell_type": "code",
   "execution_count": 217,
   "metadata": {},
   "outputs": [],
   "source": [
    "a = A.tolist()"
   ]
  },
  {
   "cell_type": "code",
   "execution_count": 221,
   "metadata": {},
   "outputs": [
    {
     "data": {
      "text/plain": [
       "66"
      ]
     },
     "execution_count": 221,
     "metadata": {},
     "output_type": "execute_result"
    }
   ],
   "source": [
    "len(a)"
   ]
  },
  {
   "cell_type": "code",
   "execution_count": 230,
   "metadata": {},
   "outputs": [],
   "source": [
    "A = list(map(str, a))"
   ]
  },
  {
   "cell_type": "code",
   "execution_count": 236,
   "metadata": {},
   "outputs": [],
   "source": [
    "end = []\n",
    "\n",
    "\n",
    "for i in range(len(A)):\n",
    "    b = A[i][1:4]\n",
    "    c = A[i][4:7]\n",
    "    d = A[i][7:9]\n",
    "    d1 = A[i][9:11]\n",
    "\n",
    "    end.append(f\"+7 ({b}) {c}-{d}-{d1}\")"
   ]
  },
  {
   "cell_type": "code",
   "execution_count": 240,
   "metadata": {},
   "outputs": [],
   "source": [
    "x[\"phone\"] = end"
   ]
  },
  {
   "cell_type": "code",
   "execution_count": 241,
   "metadata": {},
   "outputs": [
    {
     "data": {
      "text/html": [
       "<div>\n",
       "<style scoped>\n",
       "    .dataframe tbody tr th:only-of-type {\n",
       "        vertical-align: middle;\n",
       "    }\n",
       "\n",
       "    .dataframe tbody tr th {\n",
       "        vertical-align: top;\n",
       "    }\n",
       "\n",
       "    .dataframe thead th {\n",
       "        text-align: right;\n",
       "    }\n",
       "</style>\n",
       "<table border=\"1\" class=\"dataframe\">\n",
       "  <thead>\n",
       "    <tr style=\"text-align: right;\">\n",
       "      <th></th>\n",
       "      <th>ID</th>\n",
       "      <th>phone</th>\n",
       "      <th>fio</th>\n",
       "      <th>sex</th>\n",
       "      <th>born_date</th>\n",
       "      <th>message</th>\n",
       "    </tr>\n",
       "  </thead>\n",
       "  <tbody>\n",
       "    <tr>\n",
       "      <th>0</th>\n",
       "      <td>56841</td>\n",
       "      <td>+7 (908) 848-83-85</td>\n",
       "      <td>Бакуленко Татьяна Геннадьевна</td>\n",
       "      <td>Ж</td>\n",
       "      <td>5/18/1990</td>\n",
       "      <td>Прошу удалить номер 79088488385 Голубцова Алён...</td>\n",
       "    </tr>\n",
       "    <tr>\n",
       "      <th>1</th>\n",
       "      <td>56461</td>\n",
       "      <td>+7 (990) 653-33-98</td>\n",
       "      <td>Бакуленко Татьяна Геннадьевна</td>\n",
       "      <td>Ж</td>\n",
       "      <td>6/16/1970</td>\n",
       "      <td>прошу удалить номер 79906533398 Долгова Елена ...</td>\n",
       "    </tr>\n",
       "    <tr>\n",
       "      <th>2</th>\n",
       "      <td>56461</td>\n",
       "      <td>+7 (983) 390-08-43</td>\n",
       "      <td>Бакуленко Татьяна Геннадьевна</td>\n",
       "      <td>Ж</td>\n",
       "      <td>6/16/1970</td>\n",
       "      <td>79833900843</td>\n",
       "    </tr>\n",
       "    <tr>\n",
       "      <th>3</th>\n",
       "      <td>57205</td>\n",
       "      <td>+7 (903) 940-89-96</td>\n",
       "      <td>Бауфал Татьяна Викторовна</td>\n",
       "      <td>Ж</td>\n",
       "      <td>5/26/1990</td>\n",
       "      <td>прошу удалить номер 79039408996 Шабанова Зоя С...</td>\n",
       "    </tr>\n",
       "    <tr>\n",
       "      <th>4</th>\n",
       "      <td>56754</td>\n",
       "      <td>+7 (993) 888-08-95</td>\n",
       "      <td>Бауфал Татьяна Викторовна</td>\n",
       "      <td>Ж</td>\n",
       "      <td>6/24/1970</td>\n",
       "      <td>прошу удалить номер 79938880895 Модин Алексей ...</td>\n",
       "    </tr>\n",
       "    <tr>\n",
       "      <th>...</th>\n",
       "      <td>...</td>\n",
       "      <td>...</td>\n",
       "      <td>...</td>\n",
       "      <td>...</td>\n",
       "      <td>...</td>\n",
       "      <td>...</td>\n",
       "    </tr>\n",
       "    <tr>\n",
       "      <th>61</th>\n",
       "      <td>56595</td>\n",
       "      <td>+7 (994) 865-75-03</td>\n",
       "      <td>Шимко Антоний Сергеевич и Юлия Валерьевна</td>\n",
       "      <td>Двое</td>\n",
       "      <td>7/6/1970</td>\n",
       "      <td>АнастасияКараваева: Прошу удалить из базы 7994...</td>\n",
       "    </tr>\n",
       "    <tr>\n",
       "      <th>62</th>\n",
       "      <td>56991</td>\n",
       "      <td>+7 (904) 540-86-07</td>\n",
       "      <td>Шипицына Галина Ильинична</td>\n",
       "      <td>Ж</td>\n",
       "      <td>5/31/1990</td>\n",
       "      <td>прошу удалить номер 79045408607 Барышникова Юл...</td>\n",
       "    </tr>\n",
       "    <tr>\n",
       "      <th>63</th>\n",
       "      <td>57095</td>\n",
       "      <td>+7 (993) 794-96-67</td>\n",
       "      <td>Шипицына Галина Ильинична</td>\n",
       "      <td>Ж</td>\n",
       "      <td>6/29/1970</td>\n",
       "      <td>Прошу удалить из базы номер 79937949667 Сивков...</td>\n",
       "    </tr>\n",
       "    <tr>\n",
       "      <th>64</th>\n",
       "      <td>57097</td>\n",
       "      <td>+7 (777) 469-99-69</td>\n",
       "      <td>Энтентеева Диляра</td>\n",
       "      <td>Ж</td>\n",
       "      <td>5/14/1988</td>\n",
       "      <td>прошу удалить номер 77774699969 Мендыгереева А...</td>\n",
       "    </tr>\n",
       "    <tr>\n",
       "      <th>65</th>\n",
       "      <td>57330</td>\n",
       "      <td>+7 (908) 958-67-88</td>\n",
       "      <td>Энтентеева Диляра</td>\n",
       "      <td>Ж</td>\n",
       "      <td>6/11/1970</td>\n",
       "      <td>Прошу удалить номер 79089586788 Уханова Нина А...</td>\n",
       "    </tr>\n",
       "  </tbody>\n",
       "</table>\n",
       "<p>66 rows × 6 columns</p>\n",
       "</div>"
      ],
      "text/plain": [
       "       ID               phone                                        fio  \\\n",
       "0   56841  +7 (908) 848-83-85              Бакуленко Татьяна Геннадьевна   \n",
       "1   56461  +7 (990) 653-33-98              Бакуленко Татьяна Геннадьевна   \n",
       "2   56461  +7 (983) 390-08-43              Бакуленко Татьяна Геннадьевна   \n",
       "3   57205  +7 (903) 940-89-96                  Бауфал Татьяна Викторовна   \n",
       "4   56754  +7 (993) 888-08-95                  Бауфал Татьяна Викторовна   \n",
       "..    ...                 ...                                        ...   \n",
       "61  56595  +7 (994) 865-75-03  Шимко Антоний Сергеевич и Юлия Валерьевна   \n",
       "62  56991  +7 (904) 540-86-07                  Шипицына Галина Ильинична   \n",
       "63  57095  +7 (993) 794-96-67                  Шипицына Галина Ильинична   \n",
       "64  57097  +7 (777) 469-99-69                          Энтентеева Диляра   \n",
       "65  57330  +7 (908) 958-67-88                          Энтентеева Диляра   \n",
       "\n",
       "     sex  born_date                                            message  \n",
       "0      Ж  5/18/1990  Прошу удалить номер 79088488385 Голубцова Алён...  \n",
       "1      Ж  6/16/1970  прошу удалить номер 79906533398 Долгова Елена ...  \n",
       "2      Ж  6/16/1970                                        79833900843  \n",
       "3      Ж  5/26/1990  прошу удалить номер 79039408996 Шабанова Зоя С...  \n",
       "4      Ж  6/24/1970  прошу удалить номер 79938880895 Модин Алексей ...  \n",
       "..   ...        ...                                                ...  \n",
       "61  Двое   7/6/1970  АнастасияКараваева: Прошу удалить из базы 7994...  \n",
       "62     Ж  5/31/1990  прошу удалить номер 79045408607 Барышникова Юл...  \n",
       "63     Ж  6/29/1970  Прошу удалить из базы номер 79937949667 Сивков...  \n",
       "64     Ж  5/14/1988  прошу удалить номер 77774699969 Мендыгереева А...  \n",
       "65     Ж  6/11/1970  Прошу удалить номер 79089586788 Уханова Нина А...  \n",
       "\n",
       "[66 rows x 6 columns]"
      ]
     },
     "execution_count": 241,
     "metadata": {},
     "output_type": "execute_result"
    }
   ],
   "source": [
    "x"
   ]
  },
  {
   "cell_type": "code",
   "execution_count": 2,
   "metadata": {},
   "outputs": [],
   "source": [
    "x = pd.read_csv(\"big_data.csv\")"
   ]
  },
  {
   "cell_type": "code",
   "execution_count": 6,
   "metadata": {},
   "outputs": [],
   "source": [
    "x.loc[x.sex=='Двое', 'sex'] = \"Семья\""
   ]
  },
  {
   "cell_type": "code",
   "execution_count": 7,
   "metadata": {},
   "outputs": [
    {
     "data": {
      "text/html": [
       "<div>\n",
       "<style scoped>\n",
       "    .dataframe tbody tr th:only-of-type {\n",
       "        vertical-align: middle;\n",
       "    }\n",
       "\n",
       "    .dataframe tbody tr th {\n",
       "        vertical-align: top;\n",
       "    }\n",
       "\n",
       "    .dataframe thead th {\n",
       "        text-align: right;\n",
       "    }\n",
       "</style>\n",
       "<table border=\"1\" class=\"dataframe\">\n",
       "  <thead>\n",
       "    <tr style=\"text-align: right;\">\n",
       "      <th></th>\n",
       "      <th>ID</th>\n",
       "      <th>phone</th>\n",
       "      <th>fio</th>\n",
       "      <th>sex</th>\n",
       "      <th>born_date</th>\n",
       "      <th>message</th>\n",
       "    </tr>\n",
       "  </thead>\n",
       "  <tbody>\n",
       "    <tr>\n",
       "      <th>0</th>\n",
       "      <td>56841</td>\n",
       "      <td>+7 (908) 848-83-85</td>\n",
       "      <td>Бакуленко Татьяна Геннадьевна</td>\n",
       "      <td>Ж</td>\n",
       "      <td>5/18/1990</td>\n",
       "      <td>Прошу удалить номер 79088488385 Голубцова Алён...</td>\n",
       "    </tr>\n",
       "    <tr>\n",
       "      <th>1</th>\n",
       "      <td>56461</td>\n",
       "      <td>+7 (990) 653-33-98</td>\n",
       "      <td>Бакуленко Татьяна Геннадьевна</td>\n",
       "      <td>Ж</td>\n",
       "      <td>6/16/1970</td>\n",
       "      <td>прошу удалить номер 79906533398 Долгова Елена ...</td>\n",
       "    </tr>\n",
       "    <tr>\n",
       "      <th>2</th>\n",
       "      <td>56461</td>\n",
       "      <td>+7 (983) 390-08-43</td>\n",
       "      <td>Бакуленко Татьяна Геннадьевна</td>\n",
       "      <td>Ж</td>\n",
       "      <td>6/16/1970</td>\n",
       "      <td>79833900843</td>\n",
       "    </tr>\n",
       "    <tr>\n",
       "      <th>3</th>\n",
       "      <td>57205</td>\n",
       "      <td>+7 (903) 940-89-96</td>\n",
       "      <td>Бауфал Татьяна Викторовна</td>\n",
       "      <td>Ж</td>\n",
       "      <td>5/26/1990</td>\n",
       "      <td>прошу удалить номер 79039408996 Шабанова Зоя С...</td>\n",
       "    </tr>\n",
       "    <tr>\n",
       "      <th>4</th>\n",
       "      <td>56754</td>\n",
       "      <td>+7 (993) 888-08-95</td>\n",
       "      <td>Бауфал Татьяна Викторовна</td>\n",
       "      <td>Ж</td>\n",
       "      <td>6/24/1970</td>\n",
       "      <td>прошу удалить номер 79938880895 Модин Алексей ...</td>\n",
       "    </tr>\n",
       "    <tr>\n",
       "      <th>...</th>\n",
       "      <td>...</td>\n",
       "      <td>...</td>\n",
       "      <td>...</td>\n",
       "      <td>...</td>\n",
       "      <td>...</td>\n",
       "      <td>...</td>\n",
       "    </tr>\n",
       "    <tr>\n",
       "      <th>61</th>\n",
       "      <td>56595</td>\n",
       "      <td>+7 (994) 865-75-03</td>\n",
       "      <td>Шимко Антоний Сергеевич и Юлия Валерьевна</td>\n",
       "      <td>Семья</td>\n",
       "      <td>7/6/1970</td>\n",
       "      <td>АнастасияКараваева: Прошу удалить из базы 7994...</td>\n",
       "    </tr>\n",
       "    <tr>\n",
       "      <th>62</th>\n",
       "      <td>56991</td>\n",
       "      <td>+7 (904) 540-86-07</td>\n",
       "      <td>Шипицына Галина Ильинична</td>\n",
       "      <td>Ж</td>\n",
       "      <td>5/31/1990</td>\n",
       "      <td>прошу удалить номер 79045408607 Барышникова Юл...</td>\n",
       "    </tr>\n",
       "    <tr>\n",
       "      <th>63</th>\n",
       "      <td>57095</td>\n",
       "      <td>+7 (993) 794-96-67</td>\n",
       "      <td>Шипицына Галина Ильинична</td>\n",
       "      <td>Ж</td>\n",
       "      <td>6/29/1970</td>\n",
       "      <td>Прошу удалить из базы номер 79937949667 Сивков...</td>\n",
       "    </tr>\n",
       "    <tr>\n",
       "      <th>64</th>\n",
       "      <td>57097</td>\n",
       "      <td>+7 (777) 469-99-69</td>\n",
       "      <td>Энтентеева Диляра</td>\n",
       "      <td>Ж</td>\n",
       "      <td>5/14/1988</td>\n",
       "      <td>прошу удалить номер 77774699969 Мендыгереева А...</td>\n",
       "    </tr>\n",
       "    <tr>\n",
       "      <th>65</th>\n",
       "      <td>57330</td>\n",
       "      <td>+7 (908) 958-67-88</td>\n",
       "      <td>Энтентеева Диляра</td>\n",
       "      <td>Ж</td>\n",
       "      <td>6/11/1970</td>\n",
       "      <td>Прошу удалить номер 79089586788 Уханова Нина А...</td>\n",
       "    </tr>\n",
       "  </tbody>\n",
       "</table>\n",
       "<p>66 rows × 6 columns</p>\n",
       "</div>"
      ],
      "text/plain": [
       "       ID               phone                                        fio  \\\n",
       "0   56841  +7 (908) 848-83-85              Бакуленко Татьяна Геннадьевна   \n",
       "1   56461  +7 (990) 653-33-98              Бакуленко Татьяна Геннадьевна   \n",
       "2   56461  +7 (983) 390-08-43              Бакуленко Татьяна Геннадьевна   \n",
       "3   57205  +7 (903) 940-89-96                  Бауфал Татьяна Викторовна   \n",
       "4   56754  +7 (993) 888-08-95                  Бауфал Татьяна Викторовна   \n",
       "..    ...                 ...                                        ...   \n",
       "61  56595  +7 (994) 865-75-03  Шимко Антоний Сергеевич и Юлия Валерьевна   \n",
       "62  56991  +7 (904) 540-86-07                  Шипицына Галина Ильинична   \n",
       "63  57095  +7 (993) 794-96-67                  Шипицына Галина Ильинична   \n",
       "64  57097  +7 (777) 469-99-69                          Энтентеева Диляра   \n",
       "65  57330  +7 (908) 958-67-88                          Энтентеева Диляра   \n",
       "\n",
       "      sex  born_date                                            message  \n",
       "0       Ж  5/18/1990  Прошу удалить номер 79088488385 Голубцова Алён...  \n",
       "1       Ж  6/16/1970  прошу удалить номер 79906533398 Долгова Елена ...  \n",
       "2       Ж  6/16/1970                                        79833900843  \n",
       "3       Ж  5/26/1990  прошу удалить номер 79039408996 Шабанова Зоя С...  \n",
       "4       Ж  6/24/1970  прошу удалить номер 79938880895 Модин Алексей ...  \n",
       "..    ...        ...                                                ...  \n",
       "61  Семья   7/6/1970  АнастасияКараваева: Прошу удалить из базы 7994...  \n",
       "62      Ж  5/31/1990  прошу удалить номер 79045408607 Барышникова Юл...  \n",
       "63      Ж  6/29/1970  Прошу удалить из базы номер 79937949667 Сивков...  \n",
       "64      Ж  5/14/1988  прошу удалить номер 77774699969 Мендыгереева А...  \n",
       "65      Ж  6/11/1970  Прошу удалить номер 79089586788 Уханова Нина А...  \n",
       "\n",
       "[66 rows x 6 columns]"
      ]
     },
     "execution_count": 7,
     "metadata": {},
     "output_type": "execute_result"
    }
   ],
   "source": [
    "x"
   ]
  },
  {
   "cell_type": "code",
   "execution_count": 8,
   "metadata": {},
   "outputs": [],
   "source": [
    "x.to_csv('big_data.csv', index=False)"
   ]
  }
 ],
 "metadata": {
  "kernelspec": {
   "display_name": "Python 3",
   "language": "python",
   "name": "python3"
  },
  "language_info": {
   "codemirror_mode": {
    "name": "ipython",
    "version": 3
   },
   "file_extension": ".py",
   "mimetype": "text/x-python",
   "name": "python",
   "nbconvert_exporter": "python",
   "pygments_lexer": "ipython3",
   "version": "3.12.3"
  }
 },
 "nbformat": 4,
 "nbformat_minor": 2
}
